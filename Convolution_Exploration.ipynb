{
  "cells": [
    {
      "cell_type": "markdown",
      "source": [
        "## Playing with Convolutions "
      ],
      "metadata": {
        "id": "EQPolFRrxrXZ"
      },
      "id": "EQPolFRrxrXZ"
    },
    {
      "cell_type": "code",
      "source": [
        "import torch.nn as nn\n",
        "import torch\n",
        "import numpy as np\n",
        "import matplotlib.pyplot as plt"
      ],
      "metadata": {
        "id": "f0Ja4h_Bo7Kz"
      },
      "id": "f0Ja4h_Bo7Kz",
      "execution_count": 5,
      "outputs": []
    },
    {
      "cell_type": "code",
      "source": [
        "img = np.zeros((3,100,100))\n",
        "img[:,:, 45:55] = 1\n",
        "plt.figure(figsize = (8,8))\n",
        "plt.imshow(np.transpose(img,(1,2,0)))\n",
        "img.shape"
      ],
      "metadata": {
        "colab": {
          "base_uri": "https://localhost:8080/",
          "height": 502
        },
        "id": "wbMdnDVoo7Hv",
        "outputId": "7eea5b8f-ef62-414b-f74e-f49736102526"
      },
      "id": "wbMdnDVoo7Hv",
      "execution_count": 6,
      "outputs": [
        {
          "output_type": "execute_result",
          "data": {
            "text/plain": [
              "(3, 100, 100)"
            ]
          },
          "metadata": {},
          "execution_count": 6
        },
        {
          "output_type": "display_data",
          "data": {
            "text/plain": [
              "<Figure size 576x576 with 1 Axes>"
            ],
            "image/png": "[encoded data removed]"
          },
          "metadata": {
            "needs_background": "light"
          }
        }
      ]
    },
    {
      "cell_type": "code",
      "source": [
        "conv = nn.Conv2d(3,3,3, stride = 2)\n",
        "plt.figure(figsize = (8,8))\n",
        "plt.axis(False)\n",
        "plt.imshow(conv.weight.detach().numpy()[0])"
      ],
      "metadata": {
        "colab": {
          "base_uri": "https://localhost:8080/",
          "height": 501
        },
        "id": "ydhGyVe2o7Ap",
        "outputId": "3f850347-5639-4d7f-d262-924c263bf364"
      },
      "id": "ydhGyVe2o7Ap",
      "execution_count": 7,
      "outputs": [
        {
          "output_type": "stream",
          "name": "stderr",
          "text": [
            "Clipping input data to the valid range for imshow with RGB data ([0..1] for floats or [0..255] for integers).\n"
          ]
        },
        {
          "output_type": "execute_result",
          "data": {
            "text/plain": [
              "<matplotlib.image.AxesImage at 0x7fe20e0a2d10>"
            ]
          },
          "metadata": {},
          "execution_count": 7
        },
        {
          "output_type": "display_data",
          "data": {
            "text/plain": [
              "<Figure size 576x576 with 1 Axes>"
            ],
            "image/png": "[encoded data removed]"
          },
          "metadata": {
            "needs_background": "light"
          }
        }
      ]
    },
    {
      "cell_type": "code",
      "source": [
        "from torch.functional import norm\n",
        "norm_weight = conv.weight.detach().numpy()[0]\n",
        "norm_weight = (norm_weight - np.min(norm_weight)) / (np.max(norm_weight) - np.min(norm_weight))\n",
        "plt.figure(figsize = (8,8))\n",
        "plt.axis(False)\n",
        "plt.imshow(norm_weight)"
      ],
      "metadata": {
        "colab": {
          "base_uri": "https://localhost:8080/",
          "height": 483
        },
        "id": "eWic4SFMo66y",
        "outputId": "0a092324-880f-470a-bc34-24263173eede"
      },
      "id": "eWic4SFMo66y",
      "execution_count": 8,
      "outputs": [
        {
          "output_type": "execute_result",
          "data": {
            "text/plain": [
              "<matplotlib.image.AxesImage at 0x7fe20e00e290>"
            ]
          },
          "metadata": {},
          "execution_count": 8
        },
        {
          "output_type": "display_data",
          "data": {
            "text/plain": [
              "<Figure size 576x576 with 1 Axes>"
            ],
            "image/png": "[encoded data removed]"
          },
          "metadata": {
            "needs_background": "light"
          }
        }
      ]
    },
    {
      "cell_type": "code",
      "source": [
        "after_conv = conv(torch.Tensor(img))\n",
        "plt.figure(figsize = (8,8))\n",
        "plt.axis(False)\n",
        "plt.imshow(after_conv.detach().numpy().transpose((1,2,0)))"
      ],
      "metadata": {
        "colab": {
          "base_uri": "https://localhost:8080/",
          "height": 501
        },
        "id": "8P9cX9Y_u7X4",
        "outputId": "f5c26106-ea77-4fa2-c7d1-e2f80045b5b8"
      },
      "id": "8P9cX9Y_u7X4",
      "execution_count": 9,
      "outputs": [
        {
          "output_type": "stream",
          "name": "stderr",
          "text": [
            "Clipping input data to the valid range for imshow with RGB data ([0..1] for floats or [0..255] for integers).\n"
          ]
        },
        {
          "output_type": "execute_result",
          "data": {
            "text/plain": [
              "<matplotlib.image.AxesImage at 0x7fe20df1ae50>"
            ]
          },
          "metadata": {},
          "execution_count": 9
        },
        {
          "output_type": "display_data",
          "data": {
            "text/plain": [
              "<Figure size 576x576 with 1 Axes>"
            ],
            "image/png": "[encoded data removed]"
          },
          "metadata": {
            "needs_background": "light"
          }
        }
      ]
    },
    {
      "cell_type": "code",
      "source": [
        "conv.bias"
      ],
      "metadata": {
        "colab": {
          "base_uri": "https://localhost:8080/"
        },
        "id": "Hh8WGgLBv9u8",
        "outputId": "6de4448e-72e8-4777-ecdc-9b2b094a8de0"
      },
      "id": "Hh8WGgLBv9u8",
      "execution_count": 10,
      "outputs": [
        {
          "output_type": "execute_result",
          "data": {
            "text/plain": [
              "Parameter containing:\n",
              "tensor([ 0.0732, -0.1207, -0.0177], requires_grad=True)"
            ]
          },
          "metadata": {},
          "execution_count": 10
        }
      ]
    },
    {
      "cell_type": "code",
      "source": [
        "img.shape"
      ],
      "metadata": {
        "colab": {
          "base_uri": "https://localhost:8080/"
        },
        "id": "6DzNMarnwKPV",
        "outputId": "45889f1b-fc7e-466a-a5cf-0d4737c51532"
      },
      "id": "6DzNMarnwKPV",
      "execution_count": 11,
      "outputs": [
        {
          "output_type": "execute_result",
          "data": {
            "text/plain": [
              "(3, 100, 100)"
            ]
          },
          "metadata": {},
          "execution_count": 11
        }
      ]
    },
    {
      "cell_type": "code",
      "source": [
        "after_conv.shape"
      ],
      "metadata": {
        "colab": {
          "base_uri": "https://localhost:8080/"
        },
        "id": "U68M68gFwFz3",
        "outputId": "1f0fd342-c1ee-4acc-bc8a-66ad11f62285"
      },
      "id": "U68M68gFwFz3",
      "execution_count": 12,
      "outputs": [
        {
          "output_type": "execute_result",
          "data": {
            "text/plain": [
              "torch.Size([3, 49, 49])"
            ]
          },
          "metadata": {},
          "execution_count": 12
        }
      ]
    },
    {
      "cell_type": "code",
      "source": [
        "after_conv[:,0,:]"
      ],
      "metadata": {
        "colab": {
          "base_uri": "https://localhost:8080/"
        },
        "id": "2ZLIIGafu7MN",
        "outputId": "169ff9c6-ec5d-4c01-ccde-58e04968632c"
      },
      "id": "2ZLIIGafu7MN",
      "execution_count": 13,
      "outputs": [
        {
          "output_type": "execute_result",
          "data": {
            "text/plain": [
              "tensor([[ 0.0732,  0.0732,  0.0732,  0.0732,  0.0732,  0.0732,  0.0732,  0.0732,\n",
              "          0.0732,  0.0732,  0.0732,  0.0732,  0.0732,  0.0732,  0.0732,  0.0732,\n",
              "          0.0732,  0.0732,  0.0732,  0.0732,  0.0732,  0.0732, -0.3423, -0.5000,\n",
              "         -0.5000, -0.5000, -0.5000, -0.0845,  0.0732,  0.0732,  0.0732,  0.0732,\n",
              "          0.0732,  0.0732,  0.0732,  0.0732,  0.0732,  0.0732,  0.0732,  0.0732,\n",
              "          0.0732,  0.0732,  0.0732,  0.0732,  0.0732,  0.0732,  0.0732,  0.0732,\n",
              "          0.0732],\n",
              "        [-0.1207, -0.1207, -0.1207, -0.1207, -0.1207, -0.1207, -0.1207, -0.1207,\n",
              "         -0.1207, -0.1207, -0.1207, -0.1207, -0.1207, -0.1207, -0.1207, -0.1207,\n",
              "         -0.1207, -0.1207, -0.1207, -0.1207, -0.1207, -0.1207, -0.3259, -0.3538,\n",
              "         -0.3538, -0.3538, -0.3538, -0.1486, -0.1207, -0.1207, -0.1207, -0.1207,\n",
              "         -0.1207, -0.1207, -0.1207, -0.1207, -0.1207, -0.1207, -0.1207, -0.1207,\n",
              "         -0.1207, -0.1207, -0.1207, -0.1207, -0.1207, -0.1207, -0.1207, -0.1207,\n",
              "         -0.1207],\n",
              "        [-0.0177, -0.0177, -0.0177, -0.0177, -0.0177, -0.0177, -0.0177, -0.0177,\n",
              "         -0.0177, -0.0177, -0.0177, -0.0177, -0.0177, -0.0177, -0.0177, -0.0177,\n",
              "         -0.0177, -0.0177, -0.0177, -0.0177, -0.0177, -0.0177,  0.8232,  0.7142,\n",
              "          0.7142,  0.7142,  0.7142, -0.1267, -0.0177, -0.0177, -0.0177, -0.0177,\n",
              "         -0.0177, -0.0177, -0.0177, -0.0177, -0.0177, -0.0177, -0.0177, -0.0177,\n",
              "         -0.0177, -0.0177, -0.0177, -0.0177, -0.0177, -0.0177, -0.0177, -0.0177,\n",
              "         -0.0177]], grad_fn=<SliceBackward0>)"
            ]
          },
          "metadata": {},
          "execution_count": 13
        }
      ]
    },
    {
      "cell_type": "markdown",
      "source": [
        "# **Cifar 10 classification model**"
      ],
      "metadata": {
        "id": "sZ7bcIStxuiZ"
      },
      "id": "sZ7bcIStxuiZ"
    },
    {
      "cell_type": "code",
      "source": [
        ""
      ],
      "metadata": {
        "id": "K_y3AEA1x8z5"
      },
      "id": "K_y3AEA1x8z5",
      "execution_count": 13,
      "outputs": []
    },
    {
      "cell_type": "code",
      "execution_count": 14,
      "metadata": {
        "id": "f4f21d9d"
      },
      "outputs": [],
      "source": [
        "%%capture\n",
        "!pip install torchvision"
      ],
      "id": "f4f21d9d"
    },
    {
      "cell_type": "markdown",
      "metadata": {
        "id": "bee7e217"
      },
      "source": [
        "### Importing libraries"
      ],
      "id": "bee7e217"
    },
    {
      "cell_type": "code",
      "execution_count": 15,
      "metadata": {
        "id": "8650dc00"
      },
      "outputs": [],
      "source": [
        "import torch\n",
        "import torchvision\n",
        "import torchvision.transforms as transforms"
      ],
      "id": "8650dc00"
    },
    {
      "cell_type": "markdown",
      "metadata": {
        "id": "d068f1e7"
      },
      "source": [
        "### Loading the dataset"
      ],
      "id": "d068f1e7"
    },
    {
      "cell_type": "code",
      "execution_count": 16,
      "metadata": {
        "scrolled": true,
        "colab": {
          "base_uri": "https://localhost:8080/",
          "height": 361,
          "referenced_widgets": [
            "ec317d43f2dd4963b08dc0a3e5b5d548",
            "e807f618d296433d86e89ef5a92564dc",
            "12f829109a4d4240840e1560831d1446",
            "0300f5dad00a4135af099f7f2b0956d1",
            "5451045b1a5f49f48aa8578988161dbe",
            "b9029292e48a4147bcaebd01aecbb792",
            "c17cc5a8ce41475e897907da560bbcb4",
            "b5897be39c994236bef8d174338e6746",
            "4728dcc54f7542e1839e49063938f825",
            "cce9da34fbdb4d499717c9c9cb8af792",
            "2cc1deb16882476d9b0b68286919403c"
          ]
        },
        "id": "d19fd0ac",
        "outputId": "c32e6b0e-b24d-4df9-fe47-edd984e38226"
      },
      "outputs": [
        {
          "output_type": "stream",
          "name": "stdout",
          "text": [
            "Downloading https://www.cs.toronto.edu/~kriz/cifar-10-python.tar.gz to ./data/cifar-10-python.tar.gz\n"
          ]
        },
        {
          "output_type": "display_data",
          "data": {
            "text/plain": [
              "  0%|          | 0/170498071 [00:00<?, ?it/s]"
            ],
            "application/vnd.jupyter.widget-view+json": {
              "version_major": 2,
              "version_minor": 0,
              "model_id": "ec317d43f2dd4963b08dc0a3e5b5d548"
            }
          },
          "metadata": {}
        },
        {
          "output_type": "stream",
          "name": "stdout",
          "text": [
            "Extracting ./data/cifar-10-python.tar.gz to ./data\n",
            "Files already downloaded and verified\n"
          ]
        },
        {
          "output_type": "execute_result",
          "data": {
            "text/plain": [
              "(Dataset CIFAR10\n",
              "     Number of datapoints: 50000\n",
              "     Root location: ./data\n",
              "     Split: Train\n",
              "     StandardTransform\n",
              " Transform: Compose(\n",
              "                ToTensor()\n",
              "            ), Dataset CIFAR10\n",
              "     Number of datapoints: 10000\n",
              "     Root location: ./data\n",
              "     Split: Test\n",
              "     StandardTransform\n",
              " Transform: Compose(\n",
              "                ToTensor()\n",
              "            ))"
            ]
          },
          "metadata": {},
          "execution_count": 16
        }
      ],
      "source": [
        "tensor_transform = transforms.Compose([transforms.ToTensor()])\n",
        "train_data = torchvision.datasets.CIFAR10(root = './data', train = True, download = True, transform = tensor_transform)\n",
        "val_data = torchvision.datasets.CIFAR10(root = './data', train = False, download = True, transform = tensor_transform)\n",
        "\n",
        "train_data, val_data"
      ],
      "id": "d19fd0ac"
    },
    {
      "cell_type": "code",
      "execution_count": 17,
      "metadata": {
        "colab": {
          "base_uri": "https://localhost:8080/"
        },
        "id": "d9c6ac4c",
        "outputId": "323476fc-7b5f-43b1-bd5f-3cc95d132aff"
      },
      "outputs": [
        {
          "output_type": "execute_result",
          "data": {
            "text/plain": [
              "50000"
            ]
          },
          "metadata": {},
          "execution_count": 17
        }
      ],
      "source": [
        "len(train_data)"
      ],
      "id": "d9c6ac4c"
    },
    {
      "cell_type": "code",
      "source": [
        "classes = {0: 'plane' ,1: 'car' ,2: 'bird' ,3: 'cat' ,4: 'deer' ,5: 'dog' ,6: 'frog' ,7: 'horse' ,8: 'ship', 9: 'truck'}"
      ],
      "metadata": {
        "id": "xRy6vUE3QMiL"
      },
      "execution_count": 18,
      "outputs": [],
      "id": "xRy6vUE3QMiL"
    },
    {
      "cell_type": "code",
      "source": [
        "import numpy as np\n",
        "\n",
        "np.asarray(train_data[0][0]).shape"
      ],
      "metadata": {
        "colab": {
          "base_uri": "https://localhost:8080/"
        },
        "id": "Ese2-pcURXVM",
        "outputId": "7634cbd3-f76e-4d88-a3cb-ffdc231c0077"
      },
      "execution_count": 19,
      "outputs": [
        {
          "output_type": "execute_result",
          "data": {
            "text/plain": [
              "(3, 32, 32)"
            ]
          },
          "metadata": {},
          "execution_count": 19
        }
      ],
      "id": "Ese2-pcURXVM"
    },
    {
      "cell_type": "code",
      "source": [
        "tensor_transform = transforms.Compose(transforms.ToTensor())"
      ],
      "metadata": {
        "id": "ctUVg4MyRWb8"
      },
      "execution_count": 20,
      "outputs": [],
      "id": "ctUVg4MyRWb8"
    },
    {
      "cell_type": "code",
      "execution_count": 21,
      "metadata": {
        "id": "7696fc8a"
      },
      "outputs": [],
      "source": [
        "train_dataloader = torch.utils.data.DataLoader(train_data, batch_size = 4, shuffle = True)\n",
        "val_dataloader = torch.utils.data.DataLoader(val_data, batch_size = 4, shuffle = False)"
      ],
      "id": "7696fc8a"
    },
    {
      "cell_type": "code",
      "execution_count": 22,
      "metadata": {
        "colab": {
          "base_uri": "https://localhost:8080/"
        },
        "id": "cb347645",
        "outputId": "15483024-1601-4abc-c730-cb555d982a02"
      },
      "outputs": [
        {
          "output_type": "execute_result",
          "data": {
            "text/plain": [
              "<torch.utils.data.dataloader.DataLoader at 0x7fe20a840550>"
            ]
          },
          "metadata": {},
          "execution_count": 22
        }
      ],
      "source": [
        "train_dataloader"
      ],
      "id": "cb347645"
    },
    {
      "cell_type": "code",
      "execution_count": 23,
      "metadata": {
        "id": "f0a23c0f"
      },
      "outputs": [],
      "source": [
        "train_iter = iter(train_dataloader)"
      ],
      "id": "f0a23c0f"
    },
    {
      "cell_type": "code",
      "execution_count": 24,
      "metadata": {
        "id": "b71edf1d"
      },
      "outputs": [],
      "source": [
        "images, labels = train_iter.next()"
      ],
      "id": "b71edf1d"
    },
    {
      "cell_type": "code",
      "source": [
        "images.shape"
      ],
      "metadata": {
        "colab": {
          "base_uri": "https://localhost:8080/"
        },
        "id": "NYO0tXyMUD3z",
        "outputId": "18040464-ae00-42a4-887c-72314fcb36eb"
      },
      "execution_count": 25,
      "outputs": [
        {
          "output_type": "execute_result",
          "data": {
            "text/plain": [
              "torch.Size([4, 3, 32, 32])"
            ]
          },
          "metadata": {},
          "execution_count": 25
        }
      ],
      "id": "NYO0tXyMUD3z"
    },
    {
      "cell_type": "code",
      "source": [
        "images[0].shape"
      ],
      "metadata": {
        "colab": {
          "base_uri": "https://localhost:8080/"
        },
        "id": "_hR8GrbWlWgw",
        "outputId": "893bd895-a64f-453a-ba68-d17d3b0826de"
      },
      "execution_count": 26,
      "outputs": [
        {
          "output_type": "execute_result",
          "data": {
            "text/plain": [
              "torch.Size([3, 32, 32])"
            ]
          },
          "metadata": {},
          "execution_count": 26
        }
      ],
      "id": "_hR8GrbWlWgw"
    },
    {
      "cell_type": "code",
      "source": [
        "labels"
      ],
      "metadata": {
        "colab": {
          "base_uri": "https://localhost:8080/"
        },
        "id": "pTg78hXSlXdg",
        "outputId": "58e9ec8d-a68b-4f03-ca33-adaf502fe9e2"
      },
      "execution_count": 27,
      "outputs": [
        {
          "output_type": "execute_result",
          "data": {
            "text/plain": [
              "tensor([0, 0, 5, 7])"
            ]
          },
          "metadata": {},
          "execution_count": 27
        }
      ],
      "id": "pTg78hXSlXdg"
    },
    {
      "cell_type": "code",
      "source": [
        "classes"
      ],
      "metadata": {
        "colab": {
          "base_uri": "https://localhost:8080/"
        },
        "id": "6UbGdCILnzmj",
        "outputId": "6b0759b0-aa58-4d3d-e2f1-f153e33a9ec5"
      },
      "execution_count": 28,
      "outputs": [
        {
          "output_type": "execute_result",
          "data": {
            "text/plain": [
              "{0: 'plane',\n",
              " 1: 'car',\n",
              " 2: 'bird',\n",
              " 3: 'cat',\n",
              " 4: 'deer',\n",
              " 5: 'dog',\n",
              " 6: 'frog',\n",
              " 7: 'horse',\n",
              " 8: 'ship',\n",
              " 9: 'truck'}"
            ]
          },
          "metadata": {},
          "execution_count": 28
        }
      ],
      "id": "6UbGdCILnzmj"
    },
    {
      "cell_type": "code",
      "source": [
        "import matplotlib.pyplot as plt"
      ],
      "metadata": {
        "id": "qHWqhGp4m3kj"
      },
      "execution_count": 29,
      "outputs": [],
      "id": "qHWqhGp4m3kj"
    },
    {
      "cell_type": "code",
      "source": [
        "def imshow(img):\n",
        "  np_im = img.numpy()\n",
        "  plt.imshow(np.transpose(np_im, (1,2,0)))\n",
        "  plt.show()\n",
        "\n",
        "plt.figure(figsize = (24,12))\n",
        "imshow(torchvision.utils.make_grid(images))"
      ],
      "metadata": {
        "colab": {
          "base_uri": "https://localhost:8080/",
          "height": 392
        },
        "id": "iRZU_Yh4nf6i",
        "outputId": "0c99e7ca-a665-43c4-9772-0d96323f25f5"
      },
      "execution_count": 30,
      "outputs": [
        {
          "output_type": "display_data",
          "data": {
            "text/plain": [
              "<Figure size 1728x864 with 1 Axes>"
            ],
            "image/png": "[encoded data removed]"
          },
          "metadata": {
            "needs_background": "light"
          }
        }
      ],
      "id": "iRZU_Yh4nf6i"
    },
    {
      "cell_type": "code",
      "source": [
        "torchvision.utils.make_grid(images).numpy().shape"
      ],
      "metadata": {
        "colab": {
          "base_uri": "https://localhost:8080/"
        },
        "id": "wXUAKq2poRSC",
        "outputId": "23cbdec8-3e27-414e-cdaa-09dba10f8769"
      },
      "execution_count": 31,
      "outputs": [
        {
          "output_type": "execute_result",
          "data": {
            "text/plain": [
              "(3, 36, 138)"
            ]
          },
          "metadata": {},
          "execution_count": 31
        }
      ],
      "id": "wXUAKq2poRSC"
    },
    {
      "cell_type": "code",
      "source": [
        "np.transpose(torchvision.utils.make_grid(images).numpy(), (1,2,0)).shape"
      ],
      "metadata": {
        "colab": {
          "base_uri": "https://localhost:8080/"
        },
        "id": "MDmrLLIEn784",
        "outputId": "4912737e-0b0c-4147-f8e1-499f064af4a9"
      },
      "execution_count": 32,
      "outputs": [
        {
          "output_type": "execute_result",
          "data": {
            "text/plain": [
              "(36, 138, 3)"
            ]
          },
          "metadata": {},
          "execution_count": 32
        }
      ],
      "id": "MDmrLLIEn784"
    },
    {
      "cell_type": "markdown",
      "source": [
        "## Model Architecture"
      ],
      "metadata": {
        "id": "EKasoCYSi1DQ"
      },
      "id": "EKasoCYSi1DQ"
    },
    {
      "cell_type": "code",
      "source": [
        "import torch.nn as nn\n",
        "import torch.nn.functional as F\n",
        "\n",
        "class ImageClassifier(nn.Module):\n",
        "\n",
        "  def __init__(self):\n",
        "     # static image classifier\n",
        "     super().__init__()\n",
        "     self.conv1 = nn.Conv2d(3,6,5)\n",
        "     self.pool = nn.MaxPool2d(2,2)\n",
        "     self.conv2 = nn.Conv2d(6,16,5)\n",
        "     self.fc1 = nn.Linear(16*5*5, 120)\n",
        "     self.fc2 = nn.Linear(120, 84)\n",
        "     self.fc3 = nn.Linear(84, 10)\n",
        "\n",
        "\n",
        "  def forward(self, x):\n",
        "\n",
        "    x = self.pool(F.relu(self.conv1(x)))\n",
        "    x = self.pool(F.relu(self.conv2(x)))\n",
        "    x = torch.flatten(x, 1)\n",
        "    x = F.relu(self.fc1(x))\n",
        "    x = F.relu(self.fc2(x))\n",
        "\n",
        "    return self.fc3(x)"
      ],
      "metadata": {
        "id": "xPJI7z6di1y0"
      },
      "id": "xPJI7z6di1y0",
      "execution_count": 33,
      "outputs": []
    },
    {
      "cell_type": "markdown",
      "source": [
        "### Mode Training"
      ],
      "metadata": {
        "id": "RwKnhMQxnLWu"
      },
      "id": "RwKnhMQxnLWu"
    },
    {
      "cell_type": "code",
      "source": [
        "import torch.optim as optim\n",
        "\n",
        "classifier_model = ImageClassifier()\n",
        "loss_function = nn.CrossEntropyLoss()\n",
        "optimiser = optim.SGD(classifier_model.parameters(), lr = 0.001, momentum = 0.9)"
      ],
      "metadata": {
        "id": "9CVkkF9Qi2WH"
      },
      "id": "9CVkkF9Qi2WH",
      "execution_count": 34,
      "outputs": []
    },
    {
      "cell_type": "code",
      "source": [
        "classifier_model"
      ],
      "metadata": {
        "colab": {
          "base_uri": "https://localhost:8080/"
        },
        "id": "_sSKIkjWpfjY",
        "outputId": "809f6629-8dbc-4965-c39e-96a0d93abc07"
      },
      "id": "_sSKIkjWpfjY",
      "execution_count": 35,
      "outputs": [
        {
          "output_type": "execute_result",
          "data": {
            "text/plain": [
              "ImageClassifier(\n",
              "  (conv1): Conv2d(3, 6, kernel_size=(5, 5), stride=(1, 1))\n",
              "  (pool): MaxPool2d(kernel_size=2, stride=2, padding=0, dilation=1, ceil_mode=False)\n",
              "  (conv2): Conv2d(6, 16, kernel_size=(5, 5), stride=(1, 1))\n",
              "  (fc1): Linear(in_features=400, out_features=120, bias=True)\n",
              "  (fc2): Linear(in_features=120, out_features=84, bias=True)\n",
              "  (fc3): Linear(in_features=84, out_features=10, bias=True)\n",
              ")"
            ]
          },
          "metadata": {},
          "execution_count": 35
        }
      ]
    },
    {
      "cell_type": "code",
      "source": [
        "for epoch in range(10):\n",
        "\n",
        "  running_loss = 0.0\n",
        "\n",
        "  for i, batch in enumerate(train_dataloader, 0):\n",
        "      images, labels = batch\n",
        "      optimiser.zero_grad()\n",
        "      logits = classifier_model(images)\n",
        "      loss = loss_function(logits, labels)\n",
        "      loss.backward()\n",
        "      optimiser.step()\n",
        "\n",
        "      running_loss += loss.item()\n",
        "\n",
        "      if i % 2000 == 1999:\n",
        "        print(f'[{epoch + 1}, {i + 1:5}, loss {running_loss / 2000:.3f}]')\n",
        "        running_loss = 0.0\n",
        "  \n",
        "print(\"finished Training\")"
      ],
      "metadata": {
        "colab": {
          "base_uri": "https://localhost:8080/"
        },
        "id": "j0xeSmWMi2Te",
        "outputId": "811fcb50-b754-4c52-824b-91bbc417c294"
      },
      "id": "j0xeSmWMi2Te",
      "execution_count": 37,
      "outputs": [
        {
          "output_type": "stream",
          "name": "stdout",
          "text": [
            "[1,  2000, loss 1.214]\n",
            "[1,  4000, loss 1.210]\n",
            "[1,  6000, loss 1.199]\n",
            "[1,  8000, loss 1.228]\n",
            "[1, 10000, loss 1.224]\n",
            "[1, 12000, loss 1.235]\n",
            "[2,  2000, loss 1.164]\n",
            "[2,  4000, loss 1.172]\n",
            "[2,  6000, loss 1.183]\n",
            "[2,  8000, loss 1.147]\n",
            "[2, 10000, loss 1.163]\n",
            "[2, 12000, loss 1.149]\n",
            "[3,  2000, loss 1.095]\n",
            "[3,  4000, loss 1.121]\n",
            "[3,  6000, loss 1.108]\n",
            "[3,  8000, loss 1.124]\n",
            "[3, 10000, loss 1.114]\n",
            "[3, 12000, loss 1.114]\n",
            "[4,  2000, loss 1.053]\n",
            "[4,  4000, loss 1.051]\n",
            "[4,  6000, loss 1.071]\n",
            "[4,  8000, loss 1.070]\n",
            "[4, 10000, loss 1.069]\n",
            "[4, 12000, loss 1.098]\n",
            "[5,  2000, loss 1.007]\n",
            "[5,  4000, loss 1.020]\n",
            "[5,  6000, loss 1.022]\n",
            "[5,  8000, loss 1.051]\n",
            "[5, 10000, loss 1.058]\n",
            "[5, 12000, loss 1.049]\n",
            "[6,  2000, loss 0.962]\n",
            "[6,  4000, loss 0.995]\n",
            "[6,  6000, loss 1.004]\n",
            "[6,  8000, loss 1.022]\n",
            "[6, 10000, loss 1.019]\n",
            "[6, 12000, loss 1.029]\n",
            "[7,  2000, loss 0.951]\n",
            "[7,  4000, loss 0.945]\n",
            "[7,  6000, loss 0.974]\n",
            "[7,  8000, loss 0.985]\n",
            "[7, 10000, loss 0.983]\n",
            "[7, 12000, loss 0.992]\n",
            "[8,  2000, loss 0.909]\n",
            "[8,  4000, loss 0.909]\n",
            "[8,  6000, loss 0.939]\n",
            "[8,  8000, loss 0.953]\n",
            "[8, 10000, loss 0.976]\n",
            "[8, 12000, loss 0.962]\n",
            "[9,  2000, loss 0.861]\n",
            "[9,  4000, loss 0.875]\n",
            "[9,  6000, loss 0.943]\n",
            "[9,  8000, loss 0.949]\n",
            "[9, 10000, loss 0.953]\n",
            "[9, 12000, loss 0.939]\n",
            "[10,  2000, loss 0.844]\n",
            "[10,  4000, loss 0.860]\n",
            "[10,  6000, loss 0.904]\n",
            "[10,  8000, loss 0.906]\n",
            "[10, 10000, loss 0.921]\n",
            "[10, 12000, loss 0.949]\n",
            "finished Training\n"
          ]
        }
      ]
    },
    {
      "cell_type": "markdown",
      "source": [
        "## Evalution"
      ],
      "metadata": {
        "id": "44s8qyNyyooQ"
      },
      "id": "44s8qyNyyooQ"
    },
    {
      "cell_type": "code",
      "source": [
        "correct = 0\n",
        "total = 0\n",
        "\n",
        "with torch.no_grad():\n",
        "  for batch in val_dataloader:\n",
        "    images, labels = batch\n",
        "    logits = classifier_model(images)\n",
        "    # 4*10\n",
        "\n",
        "    _, predicted = torch.max(logits.data, 1)\n",
        "    # 4*1\n",
        "    total += labels.size(0)\n",
        "    correct += (predicted == labels).sum().item()   \n",
        "\n",
        "print(f'Accuracy over 10000 validation images : {100 * correct // total}%')"
      ],
      "metadata": {
        "colab": {
          "base_uri": "https://localhost:8080/"
        },
        "id": "tPOr0OQOi2QL",
        "outputId": "6248f255-a713-47c0-fc28-63b77131c27b"
      },
      "id": "tPOr0OQOi2QL",
      "execution_count": 39,
      "outputs": [
        {
          "output_type": "stream",
          "name": "stdout",
          "text": [
            "Accuracy over 10000 validation images : 57%\n"
          ]
        }
      ]
    },
    {
      "cell_type": "code",
      "source": [
        ""
      ],
      "metadata": {
        "id": "b4Tb1gMOi2NJ"
      },
      "id": "b4Tb1gMOi2NJ",
      "execution_count": null,
      "outputs": []
    },
    {
      "cell_type": "code",
      "source": [
        ""
      ],
      "metadata": {
        "id": "DwWObacUi2KZ"
      },
      "id": "DwWObacUi2KZ",
      "execution_count": null,
      "outputs": []
    }
  ],
  "metadata": {
    "kernelspec": {
      "display_name": "Python 3 (ipykernel)",
      "language": "python",
      "name": "python3"
    },
    "language_info": {
      "codemirror_mode": {
        "name": "ipython",
        "version": 3
      },
      "file_extension": ".py",
      "mimetype": "text/x-python",
      "name": "python",
      "nbconvert_exporter": "python",
      "pygments_lexer": "ipython3",
      "version": "3.9.12"
    },
    "colab": {
      "name": "Convolution_Exploration.ipynb",
      "provenance": [],
      "collapsed_sections": []
    },
    "accelerator": "GPU",
    "gpuClass": "standard",
    "widgets": {
      "application/vnd.jupyter.widget-state+json": {
        "ec317d43f2dd4963b08dc0a3e5b5d548": {
          "model_module": "@jupyter-widgets/controls",
          "model_name": "HBoxModel",
          "model_module_version": "1.5.0",
          "state": {
            "_dom_classes": [],
            "_model_module": "@jupyter-widgets/controls",
            "_model_module_version": "1.5.0",
            "_model_name": "HBoxModel",
            "_view_count": null,
            "_view_module": "@jupyter-widgets/controls",
            "_view_module_version": "1.5.0",
            "_view_name": "HBoxView",
            "box_style": "",
            "children": [
              "IPY_MODEL_e807f618d296433d86e89ef5a92564dc",
              "IPY_MODEL_12f829109a4d4240840e1560831d1446",
              "IPY_MODEL_0300f5dad00a4135af099f7f2b0956d1"
            ],
            "layout": "IPY_MODEL_5451045b1a5f49f48aa8578988161dbe"
          }
        },
        "e807f618d296433d86e89ef5a92564dc": {
          "model_module": "@jupyter-widgets/controls",
          "model_name": "HTMLModel",
          "model_module_version": "1.5.0",
          "state": {
            "_dom_classes": [],
            "_model_module": "@jupyter-widgets/controls",
            "_model_module_version": "1.5.0",
            "_model_name": "HTMLModel",
            "_view_count": null,
            "_view_module": "@jupyter-widgets/controls",
            "_view_module_version": "1.5.0",
            "_view_name": "HTMLView",
            "description": "",
            "description_tooltip": null,
            "layout": "IPY_MODEL_b9029292e48a4147bcaebd01aecbb792",
            "placeholder": "​",
            "style": "IPY_MODEL_c17cc5a8ce41475e897907da560bbcb4",
            "value": ""
          }
        },
        "12f829109a4d4240840e1560831d1446": {
          "model_module": "@jupyter-widgets/controls",
          "model_name": "FloatProgressModel",
          "model_module_version": "1.5.0",
          "state": {
            "_dom_classes": [],
            "_model_module": "@jupyter-widgets/controls",
            "_model_module_version": "1.5.0",
            "_model_name": "FloatProgressModel",
            "_view_count": null,
            "_view_module": "@jupyter-widgets/controls",
            "_view_module_version": "1.5.0",
            "_view_name": "ProgressView",
            "bar_style": "success",
            "description": "",
            "description_tooltip": null,
            "layout": "IPY_MODEL_b5897be39c994236bef8d174338e6746",
            "max": 170498071,
            "min": 0,
            "orientation": "horizontal",
            "style": "IPY_MODEL_4728dcc54f7542e1839e49063938f825",
            "value": 170498071
          }
        },
        "0300f5dad00a4135af099f7f2b0956d1": {
          "model_module": "@jupyter-widgets/controls",
          "model_name": "HTMLModel",
          "model_module_version": "1.5.0",
          "state": {
            "_dom_classes": [],
            "_model_module": "@jupyter-widgets/controls",
            "_model_module_version": "1.5.0",
            "_model_name": "HTMLModel",
            "_view_count": null,
            "_view_module": "@jupyter-widgets/controls",
            "_view_module_version": "1.5.0",
            "_view_name": "HTMLView",
            "description": "",
            "description_tooltip": null,
            "layout": "IPY_MODEL_cce9da34fbdb4d499717c9c9cb8af792",
            "placeholder": "​",
            "style": "IPY_MODEL_2cc1deb16882476d9b0b68286919403c",
            "value": " 170499072/? [00:02&lt;00:00, 92404414.82it/s]"
          }
        },
        "5451045b1a5f49f48aa8578988161dbe": {
          "model_module": "@jupyter-widgets/base",
          "model_name": "LayoutModel",
          "model_module_version": "1.2.0",
          "state": {
            "_model_module": "@jupyter-widgets/base",
            "_model_module_version": "1.2.0",
            "_model_name": "LayoutModel",
            "_view_count": null,
            "_view_module": "@jupyter-widgets/base",
            "_view_module_version": "1.2.0",
            "_view_name": "LayoutView",
            "align_content": null,
            "align_items": null,
            "align_self": null,
            "border": null,
            "bottom": null,
            "display": null,
            "flex": null,
            "flex_flow": null,
            "grid_area": null,
            "grid_auto_columns": null,
            "grid_auto_flow": null,
            "grid_auto_rows": null,
            "grid_column": null,
            "grid_gap": null,
            "grid_row": null,
            "grid_template_areas": null,
            "grid_template_columns": null,
            "grid_template_rows": null,
            "height": null,
            "justify_content": null,
            "justify_items": null,
            "left": null,
            "margin": null,
            "max_height": null,
            "max_width": null,
            "min_height": null,
            "min_width": null,
            "object_fit": null,
            "object_position": null,
            "order": null,
            "overflow": null,
            "overflow_x": null,
            "overflow_y": null,
            "padding": null,
            "right": null,
            "top": null,
            "visibility": null,
            "width": null
          }
        },
        "b9029292e48a4147bcaebd01aecbb792": {
          "model_module": "@jupyter-widgets/base",
          "model_name": "LayoutModel",
          "model_module_version": "1.2.0",
          "state": {
            "_model_module": "@jupyter-widgets/base",
            "_model_module_version": "1.2.0",
            "_model_name": "LayoutModel",
            "_view_count": null,
            "_view_module": "@jupyter-widgets/base",
            "_view_module_version": "1.2.0",
            "_view_name": "LayoutView",
            "align_content": null,
            "align_items": null,
            "align_self": null,
            "border": null,
            "bottom": null,
            "display": null,
            "flex": null,
            "flex_flow": null,
            "grid_area": null,
            "grid_auto_columns": null,
            "grid_auto_flow": null,
            "grid_auto_rows": null,
            "grid_column": null,
            "grid_gap": null,
            "grid_row": null,
            "grid_template_areas": null,
            "grid_template_columns": null,
            "grid_template_rows": null,
            "height": null,
            "justify_content": null,
            "justify_items": null,
            "left": null,
            "margin": null,
            "max_height": null,
            "max_width": null,
            "min_height": null,
            "min_width": null,
            "object_fit": null,
            "object_position": null,
            "order": null,
            "overflow": null,
            "overflow_x": null,
            "overflow_y": null,
            "padding": null,
            "right": null,
            "top": null,
            "visibility": null,
            "width": null
          }
        },
        "c17cc5a8ce41475e897907da560bbcb4": {
          "model_module": "@jupyter-widgets/controls",
          "model_name": "DescriptionStyleModel",
          "model_module_version": "1.5.0",
          "state": {
            "_model_module": "@jupyter-widgets/controls",
            "_model_module_version": "1.5.0",
            "_model_name": "DescriptionStyleModel",
            "_view_count": null,
            "_view_module": "@jupyter-widgets/base",
            "_view_module_version": "1.2.0",
            "_view_name": "StyleView",
            "description_width": ""
          }
        },
        "b5897be39c994236bef8d174338e6746": {
          "model_module": "@jupyter-widgets/base",
          "model_name": "LayoutModel",
          "model_module_version": "1.2.0",
          "state": {
            "_model_module": "@jupyter-widgets/base",
            "_model_module_version": "1.2.0",
            "_model_name": "LayoutModel",
            "_view_count": null,
            "_view_module": "@jupyter-widgets/base",
            "_view_module_version": "1.2.0",
            "_view_name": "LayoutView",
            "align_content": null,
            "align_items": null,
            "align_self": null,
            "border": null,
            "bottom": null,
            "display": null,
            "flex": null,
            "flex_flow": null,
            "grid_area": null,
            "grid_auto_columns": null,
            "grid_auto_flow": null,
            "grid_auto_rows": null,
            "grid_column": null,
            "grid_gap": null,
            "grid_row": null,
            "grid_template_areas": null,
            "grid_template_columns": null,
            "grid_template_rows": null,
            "height": null,
            "justify_content": null,
            "justify_items": null,
            "left": null,
            "margin": null,
            "max_height": null,
            "max_width": null,
            "min_height": null,
            "min_width": null,
            "object_fit": null,
            "object_position": null,
            "order": null,
            "overflow": null,
            "overflow_x": null,
            "overflow_y": null,
            "padding": null,
            "right": null,
            "top": null,
            "visibility": null,
            "width": null
          }
        },
        "4728dcc54f7542e1839e49063938f825": {
          "model_module": "@jupyter-widgets/controls",
          "model_name": "ProgressStyleModel",
          "model_module_version": "1.5.0",
          "state": {
            "_model_module": "@jupyter-widgets/controls",
            "_model_module_version": "1.5.0",
            "_model_name": "ProgressStyleModel",
            "_view_count": null,
            "_view_module": "@jupyter-widgets/base",
            "_view_module_version": "1.2.0",
            "_view_name": "StyleView",
            "bar_color": null,
            "description_width": ""
          }
        },
        "cce9da34fbdb4d499717c9c9cb8af792": {
          "model_module": "@jupyter-widgets/base",
          "model_name": "LayoutModel",
          "model_module_version": "1.2.0",
          "state": {
            "_model_module": "@jupyter-widgets/base",
            "_model_module_version": "1.2.0",
            "_model_name": "LayoutModel",
            "_view_count": null,
            "_view_module": "@jupyter-widgets/base",
            "_view_module_version": "1.2.0",
            "_view_name": "LayoutView",
            "align_content": null,
            "align_items": null,
            "align_self": null,
            "border": null,
            "bottom": null,
            "display": null,
            "flex": null,
            "flex_flow": null,
            "grid_area": null,
            "grid_auto_columns": null,
            "grid_auto_flow": null,
            "grid_auto_rows": null,
            "grid_column": null,
            "grid_gap": null,
            "grid_row": null,
            "grid_template_areas": null,
            "grid_template_columns": null,
            "grid_template_rows": null,
            "height": null,
            "justify_content": null,
            "justify_items": null,
            "left": null,
            "margin": null,
            "max_height": null,
            "max_width": null,
            "min_height": null,
            "min_width": null,
            "object_fit": null,
            "object_position": null,
            "order": null,
            "overflow": null,
            "overflow_x": null,
            "overflow_y": null,
            "padding": null,
            "right": null,
            "top": null,
            "visibility": null,
            "width": null
          }
        },
        "2cc1deb16882476d9b0b68286919403c": {
          "model_module": "@jupyter-widgets/controls",
          "model_name": "DescriptionStyleModel",
          "model_module_version": "1.5.0",
          "state": {
            "_model_module": "@jupyter-widgets/controls",
            "_model_module_version": "1.5.0",
            "_model_name": "DescriptionStyleModel",
            "_view_count": null,
            "_view_module": "@jupyter-widgets/base",
            "_view_module_version": "1.2.0",
            "_view_name": "StyleView",
            "description_width": ""
          }
        }
      }
    }
  },
  "nbformat": 4,
  "nbformat_minor": 5
}